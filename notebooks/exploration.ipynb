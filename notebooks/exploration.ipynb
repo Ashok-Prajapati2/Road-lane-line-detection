{
 "cells": [
  {
   "cell_type": "markdown",
   "metadata": {},
   "source": [
    "# Lane Detection Exploration\n",
    "\n",
    "This notebook explores the dataset and performs some initial analysis and visualization."
   ]
  },
  {
   "cell_type": "code",
   "execution_count": 13,
   "metadata": {},
   "outputs": [
    {
     "name": "stdout",
     "output_type": "stream",
     "text": [
      "Found 5 image files.\n",
      "First some files: ['detected_lane1713165401.2091095.jpg', 'detected_lane1713165221.049567.jpg', 'detected_lane1713165233.8168612.jpg', 'detected_lane1713165196.452275.jpg', 'detected_lane1713076752.3661838.jpg']\n"
     ]
    }
   ],
   "source": [
    "import cv2\n",
    "import matplotlib.pyplot as plt\n",
    "import os\n",
    "from glob import glob\n",
    "\n",
    "data_dir = '/home/ashok/Desktop/github project/Road-lane-line-detection/results/images/'\n",
    "image_files = os.listdir(data_dir)\n",
    "if os.path.exists(data_dir):\n",
    "    image_files = os.listdir(data_dir)\n",
    "    print(\"Found {} image files.\".format(len(image_files)))\n",
    "    print(\"First some files:\", image_files[:5])\n",
    "else:\n",
    "    print(\"Directory '{}' does not exist.\".format(data_dir))\n"
   ]
  },
  {
   "cell_type": "markdown",
   "metadata": {},
   "source": [
    "## Visualize Images\n",
    "\n",
    "Let's visualize a few images from the dataset to get an idea of the data."
   ]
  },
  {
   "cell_type": "code",
   "execution_count": null,
   "metadata": {},
   "outputs": [
    {
     "ename": "",
     "evalue": "",
     "output_type": "error",
     "traceback": [
      "\u001b[1;31mRunning cells with 'venv (Python 3.12.3)' requires the ipykernel package.\n",
      "\u001b[1;31mRun the following command to install 'ipykernel' into the Python environment. \n",
      "\u001b[1;31mCommand: '\"/home/ashok/Desktop/github project/Road-lane-line-detection/venv/bin/python\" -m pip install ipykernel -U --force-reinstall'"
     ]
    }
   ],
   "source": [
    "# Plot the first few images\n",
    "plt.figure(figsize=(15, 10))\n",
    "for i in range(len(image_files)):\n",
    "    image_path = os.path.join(data_dir, image_files[i])\n",
    "    image = cv2.imread(image_path)\n",
    "    image = cv2.cvtColor(image, cv2.COLOR_BGR2RGB)  # Convert to RGB\n",
    "    plt.subplot(1, 5, i+1)\n",
    "    plt.imshow(image)\n",
    "    plt.title(f'Image {i+1}')\n",
    "    plt.axis('off')\n",
    "plt.show()"
   ]
  }
 ],
 "metadata": {
  "kernelspec": {
   "display_name": "Python 3 (ipykernel)",
   "language": "python",
   "name": "python3"
  },
  "language_info": {
   "codemirror_mode": {
    "name": "ipython",
    "version": 3
   },
   "file_extension": ".py",
   "mimetype": "text/x-python",
   "name": "python",
   "nbconvert_exporter": "python",
   "pygments_lexer": "ipython3",
   "version": "3.12.3"
  }
 },
 "nbformat": 4,
 "nbformat_minor": 4
}
